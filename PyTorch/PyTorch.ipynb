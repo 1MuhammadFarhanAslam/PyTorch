{
 "cells": [
  {
   "cell_type": "markdown",
   "metadata": {},
   "source": [
    "# *For Clean Installation use following commands:*\n",
    "\n",
    "- *pip cache purge*\n",
    "- *pip install --no-cache-dir torch torchvision torchaudio*"
   ]
  },
  {
   "cell_type": "code",
   "execution_count": 1,
   "metadata": {},
   "outputs": [],
   "source": [
    "import torch"
   ]
  },
  {
   "cell_type": "code",
   "execution_count": 2,
   "metadata": {},
   "outputs": [
    {
     "name": "stdout",
     "output_type": "stream",
     "text": [
      "tensor([5.5000, 3.0000])\n"
     ]
    }
   ],
   "source": [
    "# Creating Tensors\n",
    "x = torch.tensor([5.5, 3])\n",
    "print(x)"
   ]
  },
  {
   "cell_type": "code",
   "execution_count": 3,
   "metadata": {},
   "outputs": [
    {
     "name": "stdout",
     "output_type": "stream",
     "text": [
      "tensor([[0.6038, 0.5942, 0.6866],\n",
      "        [0.8303, 0.9764, 0.7405],\n",
      "        [0.0639, 0.6991, 0.4703],\n",
      "        [0.4789, 0.3103, 0.3007],\n",
      "        [0.1910, 0.1622, 0.4575]])\n"
     ]
    }
   ],
   "source": [
    "# Creating a Random Tensor\n",
    "x = torch.rand(5, 3)\n",
    "print(x)"
   ]
  },
  {
   "cell_type": "code",
   "execution_count": 4,
   "metadata": {},
   "outputs": [
    {
     "name": "stdout",
     "output_type": "stream",
     "text": [
      "tensor([[0, 0, 0],\n",
      "        [0, 0, 0],\n",
      "        [0, 0, 0],\n",
      "        [0, 0, 0],\n",
      "        [0, 0, 0]])\n"
     ]
    }
   ],
   "source": [
    "# Creating a Zeros or Ones Tensor\n",
    "x = torch.zeros(5, 3, dtype=torch.long)\n",
    "print(x)\n"
   ]
  },
  {
   "cell_type": "code",
   "execution_count": 5,
   "metadata": {},
   "outputs": [
    {
     "name": "stdout",
     "output_type": "stream",
     "text": [
      "Shape: torch.Size([5, 3])\n",
      "Data Type: torch.int64\n",
      "Device: cpu\n",
      "Layout: torch.strided\n"
     ]
    }
   ],
   "source": [
    "# Checking Tensor Properties\n",
    "\n",
    "print(\"Shape:\", x.shape)     # Tensor shape\n",
    "print(\"Data Type:\", x.dtype) # Data type\n",
    "print(\"Device:\", x.device)   # CPU or GPU\n",
    "print(\"Layout:\", x.layout)   # Memory layout"
   ]
  },
  {
   "cell_type": "code",
   "execution_count": 8,
   "metadata": {},
   "outputs": [
    {
     "name": "stdout",
     "output_type": "stream",
     "text": [
      "tensor([1, 2, 3, 4, 5, 6, 7, 8, 9])\n",
      "tensor([[1, 2, 3],\n",
      "        [4, 5, 6],\n",
      "        [7, 8, 9]])\n"
     ]
    }
   ],
   "source": [
    "# Reshaping Tensors\n",
    "x = torch.arange(1, 10)  # Tensor from 1 to 9\n",
    "reshaped_x = x.view(3, 3)  # Reshape to 3x3\n",
    "print(x)\n",
    "print(reshaped_x)"
   ]
  },
  {
   "cell_type": "markdown",
   "metadata": {},
   "source": [
    "### **Tensor Operations**"
   ]
  },
  {
   "cell_type": "code",
   "execution_count": 9,
   "metadata": {},
   "outputs": [
    {
     "name": "stdout",
     "output_type": "stream",
     "text": [
      "tensor([ 4,  7, 10])\n",
      "tensor([2, 3, 4])\n",
      "tensor([ 3, 10, 21])\n",
      "tensor([3.0000, 2.5000, 2.3333])\n"
     ]
    }
   ],
   "source": [
    "# Basic Math Operations\n",
    "a = torch.tensor([3, 5, 7])\n",
    "b = torch.tensor([1, 2, 3])\n",
    "print(a + b)  # Addition\n",
    "print(a - b)  # Subtraction\n",
    "print(a * b)  # Element-wise multiplication\n",
    "print(a / b)  # Element-wise division"
   ]
  },
  {
   "cell_type": "code",
   "execution_count": null,
   "metadata": {},
   "outputs": [
    {
     "name": "stdout",
     "output_type": "stream",
     "text": [
      "tensor([[0.8462, 0.7236],\n",
      "        [0.4357, 0.5780]])\n",
      "tensor([[19, 22],\n",
      "        [43, 50]])\n"
     ]
    }
   ],
   "source": [
    "# Matrix Multiplication\n",
    "A = torch.rand(2, 3)\n",
    "B = torch.rand(3, 2)\n",
    "C = torch.matmul(A, B)  # Matrix multiplication\n",
    "print(C)\n",
    "\n",
    "a = torch.tensor([[1, 2], [3, 4]])\n",
    "b = torch.tensor([[5, 6], [7, 8]])\n",
    "print(torch.matmul(a, b)) # Matrix multiplication"
   ]
  },
  {
   "cell_type": "code",
   "execution_count": 12,
   "metadata": {},
   "outputs": [],
   "source": [
    "# Using GPU for Computation\n",
    "if torch.cuda.is_available():\n",
    "    device = torch.device(\"cuda\")          # a CUDA device object\n",
    "    y = torch.ones_like(x, device=device)  # directly create a tensor on GPU\n",
    "    x = x.to(device)                       # or just use strings ``.to(\"cuda\")``\n",
    "    z = x + y\n",
    "    print(z)\n",
    "    print(z.to(\"cpu\", torch.double))       # ``.to`` can also change dtype together!"
   ]
  },
  {
   "cell_type": "code",
   "execution_count": 13,
   "metadata": {},
   "outputs": [
    {
     "name": "stdout",
     "output_type": "stream",
     "text": [
      "tensor([1, 2, 3])\n"
     ]
    }
   ],
   "source": [
    "# Using GPY for Computation\n",
    "device = \"cuda\" if torch.cuda.is_available() else \"cpu\"\n",
    "x = torch.tensor([1, 2, 3], device=device)\n",
    "print(x)"
   ]
  },
  {
   "cell_type": "code",
   "execution_count": 14,
   "metadata": {},
   "outputs": [
    {
     "name": "stdout",
     "output_type": "stream",
     "text": [
      "[1 2 3]\n"
     ]
    }
   ],
   "source": [
    "# Converting Between NumPy and PyTorch\n",
    "torch_tensor = torch.tensor([1, 2, 3])\n",
    "numpy_array = torch_tensor.numpy()\n",
    "print(numpy_array)"
   ]
  },
  {
   "cell_type": "code",
   "execution_count": 15,
   "metadata": {},
   "outputs": [
    {
     "name": "stdout",
     "output_type": "stream",
     "text": [
      "tensor([4, 5, 6])\n"
     ]
    }
   ],
   "source": [
    "# NumPy to PyTorch\n",
    "import numpy as np\n",
    "np_array = np.array([4, 5, 6])\n",
    "torch_tensor = torch.from_numpy(np_array)\n",
    "print(torch_tensor)"
   ]
  },
  {
   "cell_type": "markdown",
   "metadata": {},
   "source": [
    "### **Autograd (Automatic Differentiation)**"
   ]
  },
  {
   "cell_type": "code",
   "execution_count": 16,
   "metadata": {},
   "outputs": [
    {
     "name": "stdout",
     "output_type": "stream",
     "text": [
      "tensor(17.)\n"
     ]
    }
   ],
   "source": [
    "# Enabling Gradient Computation\n",
    "x = torch.tensor(2.0, requires_grad=True)\n",
    "y = x ** 3 + 5 * x  # Function y = x^3 + 5x\n",
    "y.backward()  # Compute derivative\n",
    "print(x.grad)  # dy/dx = 3x^2 + 5"
   ]
  },
  {
   "cell_type": "code",
   "execution_count": 17,
   "metadata": {},
   "outputs": [
    {
     "name": "stdout",
     "output_type": "stream",
     "text": [
      "tensor(2., requires_grad=True)\n"
     ]
    }
   ],
   "source": [
    "# Saving and Loading Tensors\n",
    "torch.save(x, \"tensor.pth\")\n",
    "x = torch.load(\"tensor.pth\")\n",
    "print(x)"
   ]
  },
  {
   "cell_type": "code",
   "execution_count": 22,
   "metadata": {},
   "outputs": [
    {
     "data": {
      "text/plain": [
       "True"
      ]
     },
     "execution_count": 22,
     "metadata": {},
     "output_type": "execute_result"
    }
   ],
   "source": [
    "torch.is_nonzero(torch.tensor([0.]))\n",
    "torch.is_nonzero(torch.tensor([1.5]))\n",
    "torch.is_nonzero(torch.tensor([False]))\n",
    "torch.is_nonzero(torch.tensor([3]))"
   ]
  },
  {
   "cell_type": "code",
   "execution_count": 24,
   "metadata": {},
   "outputs": [
    {
     "data": {
      "text/plain": [
       "True"
      ]
     },
     "execution_count": 24,
     "metadata": {},
     "output_type": "execute_result"
    }
   ],
   "source": [
    "x = torch.tensor([1, 2, 3]) # Returns True if obj is a PyTorch tensor.\n",
    "torch.is_tensor(x)\n",
    "torch.is_storage(x) # Returns True if obj is a PyTorch storage object.\n",
    "torch.is_complex(x) # Returns True if obj is a PyTorch complex tensor.\n",
    "torch.is_conj(x) # Returns True if obj is a PyTorch conjugate tensor.\n",
    "torch.is_floating_point(x) # Returns True if obj is a PyTorch floating point tensor.\n",
    "# torch.is_nonzero(x) # Returns True if obj is a PyTorch tensor with non-zero elements.\n",
    "torch.is_same_size(x, x) # Returns True if obj1 and obj2 have the same size.\n",
    "\n",
    "\n"
   ]
  },
  {
   "cell_type": "code",
   "execution_count": null,
   "metadata": {},
   "outputs": [],
   "source": []
  }
 ],
 "metadata": {
  "kernelspec": {
   "display_name": "pytorch",
   "language": "python",
   "name": "python3"
  },
  "language_info": {
   "codemirror_mode": {
    "name": "ipython",
    "version": 3
   },
   "file_extension": ".py",
   "mimetype": "text/x-python",
   "name": "python",
   "nbconvert_exporter": "python",
   "pygments_lexer": "ipython3",
   "version": "3.10.16"
  }
 },
 "nbformat": 4,
 "nbformat_minor": 2
}
